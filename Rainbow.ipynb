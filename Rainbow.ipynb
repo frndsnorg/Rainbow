{
  "nbformat": 4,
  "nbformat_minor": 0,
  "metadata": {
    "colab": {
      "name": "Rainbow.ipynb",
      "version": "0.3.2",
      "provenance": [],
      "include_colab_link": true
    },
    "kernelspec": {
      "name": "python3",
      "display_name": "Python 3"
    },
    "accelerator": "GPU"
  },
  "cells": [
    {
      "cell_type": "markdown",
      "metadata": {
        "id": "view-in-github",
        "colab_type": "text"
      },
      "source": [
        "<a href=\"https://colab.research.google.com/github/vikassharma1999/Rainbow/blob/master/Rainbow.ipynb\" target=\"_parent\"><img src=\"https://colab.research.google.com/assets/colab-badge.svg\" alt=\"Open In Colab\"/></a>"
      ]
    },
    {
      "cell_type": "code",
      "metadata": {
        "id": "Wvq2ec7z3105",
        "colab_type": "code",
        "outputId": "710567a2-3bc7-4cf2-b027-9fc5f20985c3",
        "colab": {
          "base_uri": "https://localhost:8080/",
          "height": 204
        }
      },
      "source": [
        "!wget http://data.csail.mit.edu/places/places205/testSetPlaces205_resize.tar.gz"
      ],
      "execution_count": 0,
      "outputs": [
        {
          "output_type": "stream",
          "text": [
            "--2019-07-29 03:57:19--  http://data.csail.mit.edu/places/places205/testSetPlaces205_resize.tar.gz\n",
            "Resolving data.csail.mit.edu (data.csail.mit.edu)... 128.52.129.40\n",
            "Connecting to data.csail.mit.edu (data.csail.mit.edu)|128.52.129.40|:80... connected.\n",
            "HTTP request sent, awaiting response... 200 OK\n",
            "Length: 2341250899 (2.2G) [application/octet-stream]\n",
            "Saving to: ‘testSetPlaces205_resize.tar.gz’\n",
            "\n",
            "testSetPlaces205_re 100%[===================>]   2.18G  26.7MB/s    in 3m 56s  \n",
            "\n",
            "2019-07-29 04:01:15 (9.48 MB/s) - ‘testSetPlaces205_resize.tar.gz’ saved [2341250899/2341250899]\n",
            "\n"
          ],
          "name": "stdout"
        }
      ]
    },
    {
      "cell_type": "code",
      "metadata": {
        "id": "K-E0L7fV3_w2",
        "colab_type": "code",
        "colab": {}
      },
      "source": [
        "!tar -xzf testSetPlaces205_resize.tar.gz"
      ],
      "execution_count": 0,
      "outputs": []
    },
    {
      "cell_type": "code",
      "metadata": {
        "id": "3RWXGjvH5WAB",
        "colab_type": "code",
        "colab": {}
      },
      "source": [
        ""
      ],
      "execution_count": 0,
      "outputs": []
    }
  ]
}